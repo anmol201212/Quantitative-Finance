{
 "cells": [
  {
   "cell_type": "code",
   "execution_count": 1,
   "metadata": {},
   "outputs": [],
   "source": [
    "import numpy as np\n",
    "import pandas as pd\n",
    "from pandas_datareader import data as web\n",
    "import matplotlib.pyplot as plt\n",
    "import matplotlib.dates as mdates\n",
    "%matplotlib inline\n",
    "\n",
    "import datetime as dt\n",
    "import mplfinance as mpf\n",
    "import time\n",
    "import yfinance as yf\n",
    "\n",
    "import os\n",
    "from os import listdir\n",
    "from os.path import isfile, join"
   ]
  },
  {
   "cell_type": "code",
   "execution_count": 2,
   "metadata": {},
   "outputs": [],
   "source": [
    "#default Values\n",
    "path =\"/workspaces/Quantitative-Finance/Data/\"\n",
    "S_year = 2018\n",
    "S_month = 1\n",
    "S_day = 1\n",
    "S_date_str = f\"{S_year}-{S_month}-{S_day}\"\n",
    "S_date_datetime = dt.datetime(S_year,S_month,S_day)\n",
    "\n",
    "E_year = 2021\n",
    "E_month = 12\n",
    "E_day = 31\n",
    "E_date_str = f\"{E_year}-{E_month}-{E_day}\"\n",
    "E_date_datetime = dt.datetime(E_year,E_month,E_day)\n"
   ]
  },
  {
   "cell_type": "code",
   "execution_count": null,
   "metadata": {},
   "outputs": [],
   "source": []
  }
 ],
 "metadata": {
  "kernelspec": {
   "display_name": "Python 3",
   "language": "python",
   "name": "python3"
  },
  "language_info": {
   "codemirror_mode": {
    "name": "ipython",
    "version": 3
   },
   "file_extension": ".py",
   "mimetype": "text/x-python",
   "name": "python",
   "nbconvert_exporter": "python",
   "pygments_lexer": "ipython3",
   "version": "3.10.13"
  }
 },
 "nbformat": 4,
 "nbformat_minor": 2
}
