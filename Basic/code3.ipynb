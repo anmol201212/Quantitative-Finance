{
 "cells": [
  {
   "cell_type": "code",
   "execution_count": 2,
   "metadata": {},
   "outputs": [],
   "source": [
    "import numpy as np\n",
    "import pandas as pd\n",
    "from pandas_datareader import data as web\n",
    "import matplotlib.pyplot as plt\n",
    "import matplotlib.dates as mdates\n",
    "%matplotlib inline\n",
    "\n",
    "import datetime as dt\n",
    "import mplfinance as mpf\n",
    "import time\n",
    "import yfinance as yf\n",
    "\n",
    "import os\n",
    "from os import listdir\n",
    "from os.path import isfile, join"
   ]
  },
  {
   "cell_type": "code",
   "execution_count": 3,
   "metadata": {},
   "outputs": [],
   "source": [
    "#default Values\n",
    "path =r\"D:\\\\Personal\\\\Quantitative-Finance\\\\stocks\\\\\"\n",
    "S_year = 2020\n",
    "S_month = 1\n",
    "S_day = 2\n",
    "S_date_str = f\"{S_year}-{S_month}-{S_day}\"\n",
    "S_date_datetime = dt.datetime(S_year,S_month,S_day)\n",
    "\n",
    "E_year = 2024\n",
    "E_month = 6\n",
    "E_day = 14\n",
    "E_date_str = f\"{E_year}-{E_month}-{E_day}\"\n",
    "E_date_datetime = dt.datetime(E_year,E_month,E_day)\n"
   ]
  },
  {
   "cell_type": "code",
   "execution_count": 4,
   "metadata": {},
   "outputs": [],
   "source": [
    "# get stock file names in a list\n",
    "files = [x for x in listdir(path) if isfile(join(path,x))]\n",
    "tickers = [os.path.splitext(x)[0] for x in files]"
   ]
  },
  {
   "cell_type": "code",
   "execution_count": 18,
   "metadata": {},
   "outputs": [],
   "source": [
    "# tickers,len(tickers)"
   ]
  },
  {
   "cell_type": "code",
   "execution_count": 5,
   "metadata": {},
   "outputs": [],
   "source": [
    "# create dataframe from our list\n",
    "stock_df = pd.DataFrame(tickers,columns=[\"tickers\"])\n",
    "# stock_df"
   ]
  },
  {
   "cell_type": "code",
   "execution_count": 6,
   "metadata": {},
   "outputs": [],
   "source": [
    "# return dataframe from csv\n",
    "def get_df_from_csv(ticker):\n",
    "    try:\n",
    "        df = pd.read_csv(\"D:\\\\Personal\\\\Quantitative-Finance\\\\stocks\\\\\"+ticker+ \".csv\")\n",
    "    except FileNotFoundError:\n",
    "        print(\"File doesn't exist\")\n",
    "    else:\n",
    "        return df"
   ]
  },
  {
   "cell_type": "code",
   "execution_count": 7,
   "metadata": {},
   "outputs": [],
   "source": [
    "# Save dataframe to csv\n",
    "def save_dataframe_to_csv(df,ticker):\n",
    "    df.to_csv(path+ticker+\".csv\")"
   ]
  },
  {
   "cell_type": "code",
   "execution_count": 8,
   "metadata": {},
   "outputs": [],
   "source": [
    "# delete unnamed columns in csv files\n",
    "def delete_unnames_cols(df):\n",
    "    df = df.loc[:,~df.columns.str.contains('^Unnamed')]\n",
    "    return df"
   ]
  },
  {
   "cell_type": "code",
   "execution_count": 9,
   "metadata": {},
   "outputs": [],
   "source": [
    "# Add daily return to df\n",
    "def add_daily_return(df,ticker):\n",
    "    df['daily_return'] = (df['Adj Close'] / df['Adj Close'].shift(1)) - 1\n",
    "    df.to_csv(\"D:\\\\Personal\\\\Quantitative-Finance\\\\stocks\\\\\"+ticker+\".csv\")\n",
    "    return df"
   ]
  },
  {
   "cell_type": "code",
   "execution_count": 11,
   "metadata": {},
   "outputs": [],
   "source": [
    "# stock_a = get_df_from_csv(tickers[0])\n",
    "# stock_a\n",
    "for ticker in tickers:\n",
    "    stock_a = get_df_from_csv(ticker)\n",
    "    add_daily_return(stock_a,ticker)\n",
    "# add_daily_return(stock_a,tickers[0])\n",
    "# stock_a"
   ]
  },
  {
   "cell_type": "code",
   "execution_count": null,
   "metadata": {},
   "outputs": [],
   "source": [
    "# return on investment over time\n",
    "def get_roi_defined_time(df):\n",
    "    df['Date'] = pd.to_datetime(df['Date'])\n",
    "    start_val = df[df['Date'] == S_date_str]['Adj Close'][0]\n",
    "    end_val = df[df['Date'] == E_date_str]['Adj Close'][0]\n",
    "    print(\"Initial Price:\",start_val)\n",
    "    print(\"Final Price:\",end_val)\n",
    "    roi = (end_val - start_val) / start_val\n",
    "    return roi"
   ]
  },
  {
   "cell_type": "code",
   "execution_count": null,
   "metadata": {},
   "outputs": [],
   "source": [
    "# get coefficient of variance\n",
    "def get_cov(stock_df):\n",
    "    for stock in stock_df:\n",
    "        mean,sd = stock_df['Adj Close'].mean(),stock_df['Adj Close'].std()\n",
    "        cov = sd / mean\n",
    "        return cov"
   ]
  },
  {
   "cell_type": "code",
   "execution_count": 16,
   "metadata": {},
   "outputs": [
    {
     "name": "stdout",
     "output_type": "stream",
     "text": [
      "File doesn't exist\n"
     ]
    }
   ],
   "source": [
    "stock_a = get_df_from_csv(tickers[0])\n",
    "stock_a\n",
    "\n",
    "# add_daily_return(stock_a,tickers[0])\n",
    "# stock_a\n",
    "\n",
    "# stock_a = delete_unnames_cols(stock_a)\n",
    "# stock_a\n",
    "\n",
    "# save_dataframe_to_csv(stock_a, tickers[1])"
   ]
  },
  {
   "cell_type": "code",
   "execution_count": null,
   "metadata": {},
   "outputs": [],
   "source": [
    "# Merge Multiple stock in on df\n",
    "def merge_df_by_column_name(col_name,*tickers):\n",
    "    \n",
    "    mult_df = pd.DataFrame()\n",
    "    start = S_date_datetime\n",
    "    end = E_date_datetime\n",
    "    \n",
    "    for x in tickers:\n",
    "        mult_df[x] = get_df_from_csv(x)[col_name]\n",
    "    return mult_df"
   ]
  },
  {
   "cell_type": "code",
   "execution_count": null,
   "metadata": {},
   "outputs": [],
   "source": [
    "port_list = [\"FB\",\"NEM\"]\n",
    "port_df = merge_df_by_column_name('daily_return',*port_list)"
   ]
  },
  {
   "cell_type": "code",
   "execution_count": null,
   "metadata": {},
   "outputs": [
    {
     "data": {
      "text/html": [
       "<div>\n",
       "<style scoped>\n",
       "    .dataframe tbody tr th:only-of-type {\n",
       "        vertical-align: middle;\n",
       "    }\n",
       "\n",
       "    .dataframe tbody tr th {\n",
       "        vertical-align: top;\n",
       "    }\n",
       "\n",
       "    .dataframe thead th {\n",
       "        text-align: right;\n",
       "    }\n",
       "</style>\n",
       "<table border=\"1\" class=\"dataframe\">\n",
       "  <thead>\n",
       "    <tr style=\"text-align: right;\">\n",
       "      <th></th>\n",
       "      <th>FB</th>\n",
       "      <th>NEM</th>\n",
       "    </tr>\n",
       "  </thead>\n",
       "  <tbody>\n",
       "    <tr>\n",
       "      <th>FB</th>\n",
       "      <td>1.000000</td>\n",
       "      <td>0.112418</td>\n",
       "    </tr>\n",
       "    <tr>\n",
       "      <th>NEM</th>\n",
       "      <td>0.112418</td>\n",
       "      <td>1.000000</td>\n",
       "    </tr>\n",
       "  </tbody>\n",
       "</table>\n",
       "</div>"
      ],
      "text/plain": [
       "           FB       NEM\n",
       "FB   1.000000  0.112418\n",
       "NEM  0.112418  1.000000"
      ]
     },
     "execution_count": 15,
     "metadata": {},
     "output_type": "execute_result"
    }
   ],
   "source": [
    "port_df.corr()"
   ]
  },
  {
   "cell_type": "code",
   "execution_count": null,
   "metadata": {},
   "outputs": [],
   "source": [
    "price_df = merge_df_by_column_name('Adj Close',*[\"FB\",\"NEM\"])"
   ]
  },
  {
   "cell_type": "code",
   "execution_count": null,
   "metadata": {},
   "outputs": [
    {
     "data": {
      "text/html": [
       "<div>\n",
       "<style scoped>\n",
       "    .dataframe tbody tr th:only-of-type {\n",
       "        vertical-align: middle;\n",
       "    }\n",
       "\n",
       "    .dataframe tbody tr th {\n",
       "        vertical-align: top;\n",
       "    }\n",
       "\n",
       "    .dataframe thead th {\n",
       "        text-align: right;\n",
       "    }\n",
       "</style>\n",
       "<table border=\"1\" class=\"dataframe\">\n",
       "  <thead>\n",
       "    <tr style=\"text-align: right;\">\n",
       "      <th></th>\n",
       "      <th>FB</th>\n",
       "      <th>NEM</th>\n",
       "    </tr>\n",
       "  </thead>\n",
       "  <tbody>\n",
       "    <tr>\n",
       "      <th>FB</th>\n",
       "      <td>1.000000</td>\n",
       "      <td>0.878595</td>\n",
       "    </tr>\n",
       "    <tr>\n",
       "      <th>NEM</th>\n",
       "      <td>0.878595</td>\n",
       "      <td>1.000000</td>\n",
       "    </tr>\n",
       "  </tbody>\n",
       "</table>\n",
       "</div>"
      ],
      "text/plain": [
       "           FB       NEM\n",
       "FB   1.000000  0.878595\n",
       "NEM  0.878595  1.000000"
      ]
     },
     "execution_count": 17,
     "metadata": {},
     "output_type": "execute_result"
    }
   ],
   "source": [
    "price_df.corr()"
   ]
  },
  {
   "cell_type": "code",
   "execution_count": null,
   "metadata": {},
   "outputs": [
    {
     "data": {
      "text/html": [
       "<div>\n",
       "<style scoped>\n",
       "    .dataframe tbody tr th:only-of-type {\n",
       "        vertical-align: middle;\n",
       "    }\n",
       "\n",
       "    .dataframe tbody tr th {\n",
       "        vertical-align: top;\n",
       "    }\n",
       "\n",
       "    .dataframe thead th {\n",
       "        text-align: right;\n",
       "    }\n",
       "</style>\n",
       "<table border=\"1\" class=\"dataframe\">\n",
       "  <thead>\n",
       "    <tr style=\"text-align: right;\">\n",
       "      <th></th>\n",
       "      <th>FB</th>\n",
       "      <th>NEM</th>\n",
       "    </tr>\n",
       "  </thead>\n",
       "  <tbody>\n",
       "    <tr>\n",
       "      <th>0</th>\n",
       "      <td>116.860001</td>\n",
       "      <td>31.397280</td>\n",
       "    </tr>\n",
       "    <tr>\n",
       "      <th>1</th>\n",
       "      <td>118.690002</td>\n",
       "      <td>31.696466</td>\n",
       "    </tr>\n",
       "    <tr>\n",
       "      <th>2</th>\n",
       "      <td>120.669998</td>\n",
       "      <td>33.156181</td>\n",
       "    </tr>\n",
       "    <tr>\n",
       "      <th>3</th>\n",
       "      <td>123.410004</td>\n",
       "      <td>32.113529</td>\n",
       "    </tr>\n",
       "    <tr>\n",
       "      <th>4</th>\n",
       "      <td>124.900002</td>\n",
       "      <td>32.059132</td>\n",
       "    </tr>\n",
       "    <tr>\n",
       "      <th>...</th>\n",
       "      <td>...</td>\n",
       "      <td>...</td>\n",
       "    </tr>\n",
       "    <tr>\n",
       "      <th>1161</th>\n",
       "      <td>363.179993</td>\n",
       "      <td>58.840000</td>\n",
       "    </tr>\n",
       "    <tr>\n",
       "      <th>1162</th>\n",
       "      <td>366.559998</td>\n",
       "      <td>58.880001</td>\n",
       "    </tr>\n",
       "    <tr>\n",
       "      <th>1163</th>\n",
       "      <td>358.450012</td>\n",
       "      <td>58.860001</td>\n",
       "    </tr>\n",
       "    <tr>\n",
       "      <th>1164</th>\n",
       "      <td>355.450012</td>\n",
       "      <td>56.910000</td>\n",
       "    </tr>\n",
       "    <tr>\n",
       "      <th>1165</th>\n",
       "      <td>355.119995</td>\n",
       "      <td>56.520000</td>\n",
       "    </tr>\n",
       "  </tbody>\n",
       "</table>\n",
       "<p>1166 rows × 2 columns</p>\n",
       "</div>"
      ],
      "text/plain": [
       "              FB        NEM\n",
       "0     116.860001  31.397280\n",
       "1     118.690002  31.696466\n",
       "2     120.669998  33.156181\n",
       "3     123.410004  32.113529\n",
       "4     124.900002  32.059132\n",
       "...          ...        ...\n",
       "1161  363.179993  58.840000\n",
       "1162  366.559998  58.880001\n",
       "1163  358.450012  58.860001\n",
       "1164  355.450012  56.910000\n",
       "1165  355.119995  56.520000\n",
       "\n",
       "[1166 rows x 2 columns]"
      ]
     },
     "execution_count": 18,
     "metadata": {},
     "output_type": "execute_result"
    }
   ],
   "source": [
    "price_df"
   ]
  },
  {
   "cell_type": "code",
   "execution_count": null,
   "metadata": {},
   "outputs": [
    {
     "name": "stdout",
     "output_type": "stream",
     "text": [
      "Portfolio Var : 0.08810500277812469\n",
      "FB Var:  0.11213621430466478\n",
      "NEM Var:  0.09826110042532281\n"
     ]
    }
   ],
   "source": [
    "fb_wt = 355 / 411.5\n",
    "new_wt = 56.5 / 411.5\n",
    "\n",
    "wts = np.array([fb_wt,new_wt])\n",
    "port_var = np.dot(wts.T, np.dot(port_df.cov() * 253, wts))\n",
    "print(\"Portfolio Var :\", port_var)\n",
    "print(\"FB Var: \",port_df[\"FB\"].var()*253)\n",
    "print(\"NEM Var: \",port_df[\"NEM\"].var()*253)"
   ]
  },
  {
   "cell_type": "code",
   "execution_count": null,
   "metadata": {},
   "outputs": [],
   "source": []
  },
  {
   "cell_type": "code",
   "execution_count": null,
   "metadata": {},
   "outputs": [],
   "source": []
  },
  {
   "cell_type": "code",
   "execution_count": null,
   "metadata": {},
   "outputs": [],
   "source": []
  }
 ],
 "metadata": {
  "kernelspec": {
   "display_name": "Python 3",
   "language": "python",
   "name": "python3"
  },
  "language_info": {
   "codemirror_mode": {
    "name": "ipython",
    "version": 3
   },
   "file_extension": ".py",
   "mimetype": "text/x-python",
   "name": "python",
   "nbconvert_exporter": "python",
   "pygments_lexer": "ipython3",
   "version": "3.11.4"
  }
 },
 "nbformat": 4,
 "nbformat_minor": 2
}
