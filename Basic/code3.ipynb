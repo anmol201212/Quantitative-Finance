{
 "cells": [
  {
   "cell_type": "code",
   "execution_count": 55,
   "metadata": {},
   "outputs": [],
   "source": [
    "import numpy as np\n",
    "import pandas as pd\n",
    "from pandas_datareader import data as web\n",
    "import matplotlib.pyplot as plt\n",
    "import matplotlib.dates as mdates\n",
    "%matplotlib inline\n",
    "\n",
    "import datetime as dt\n",
    "import mplfinance as mpf\n",
    "import time\n",
    "import yfinance as yf\n",
    "\n",
    "import os\n",
    "from os import listdir\n",
    "from os.path import isfile, join"
   ]
  },
  {
   "cell_type": "code",
   "execution_count": 56,
   "metadata": {},
   "outputs": [],
   "source": [
    "#default Values\n",
    "path =\"D:\\\\Study\\\\Quantitative-Finance\\\\Data\\\\\"\n",
    "\n",
    "S_year = 2020\n",
    "S_month = 1\n",
    "S_day = 1\n",
    "S_date_str = f\"{S_year}-{S_month}-{S_day}\"\n",
    "S_date_datetime = dt.datetime(S_year,S_month,S_day)\n",
    "\n",
    "E_year = 2024\n",
    "E_month = 2\n",
    "E_day = 2\n",
    "E_date_str = f\"{E_year}-{E_month}-{E_day}\"\n",
    "E_date_datetime = dt.datetime(E_year,E_month,E_day)\n"
   ]
  },
  {
   "cell_type": "code",
   "execution_count": 57,
   "metadata": {},
   "outputs": [],
   "source": [
    "# get stock file names in a list\n",
    "files = [x for x in listdir(path) if isfile(join(path,x))]\n",
    "tickers = [os.path.splitext(x)[0] for x in files]"
   ]
  },
  {
   "cell_type": "code",
   "execution_count": 58,
   "metadata": {},
   "outputs": [],
   "source": [
    "# tickers,len(tickers)"
   ]
  },
  {
   "cell_type": "code",
   "execution_count": 59,
   "metadata": {},
   "outputs": [],
   "source": [
    "# create dataframe from our list\n",
    "stock_df = pd.DataFrame(tickers,columns=[\"tickers\"])\n",
    "# stock_df"
   ]
  },
  {
   "cell_type": "code",
   "execution_count": 60,
   "metadata": {},
   "outputs": [],
   "source": [
    "# return dataframe from csv\n",
    "def get_df_from_csv(ticker):\n",
    "    try:\n",
    "        df = pd.read_csv(path+ticker+\".csv\")\n",
    "    except FileNotFoundError:\n",
    "        print(\"File doesn't exist\")\n",
    "    else:\n",
    "        return df"
   ]
  },
  {
   "cell_type": "code",
   "execution_count": 61,
   "metadata": {},
   "outputs": [],
   "source": [
    "# Save dataframe to csv\n",
    "def save_dataframe_to_csv(df,ticker):\n",
    "    df.to_csv(path+ticker+\".csv\")"
   ]
  },
  {
   "cell_type": "code",
   "execution_count": 70,
   "metadata": {},
   "outputs": [],
   "source": [
    "# delete unnamed columns in csv files\n",
    "def delete_unnames_cols(df):\n",
    "    df = df.loc[:,~df.columns.str.contains('^Unnamed')]\n",
    "    return df"
   ]
  },
  {
   "cell_type": "code",
   "execution_count": 63,
   "metadata": {},
   "outputs": [],
   "source": [
    "# Add daily return to df\n",
    "def add_daily_return(df,ticker):\n",
    "    df['daily_return'] = (df['Adj Close'] / df['Adj Close'].shift(1)) - 1\n",
    "    df.to_csv(path+ticker+\".csv\")\n",
    "    return df"
   ]
  },
  {
   "cell_type": "code",
   "execution_count": 64,
   "metadata": {},
   "outputs": [],
   "source": [
    "# return on investment over time\n",
    "def get_roi_defined_time(df):\n",
    "    df['Date'] = pd.to_datetime(df['Date'])\n",
    "    start_val = df[df['Date'] == S_date_str]['Adj Close'][0]\n",
    "    end_val = df[df['Date'] == E_date_str]['Adj Close'][0]\n",
    "    print(\"Initial Price:\",start_val)\n",
    "    print(\"Final Price:\",end_val)\n",
    "    roi = (end_val - start_val) / start_val\n",
    "    return roi"
   ]
  },
  {
   "cell_type": "code",
   "execution_count": 65,
   "metadata": {},
   "outputs": [],
   "source": [
    "# get coefficient of variance\n",
    "def get_cov(stock_df):\n",
    "    for stock in stock_df:\n",
    "        mean,sd = stock_df['Adj Close'].mean(),stock_df['Adj Close'].std()\n",
    "        cov = sd / mean\n",
    "        return cov"
   ]
  },
  {
   "cell_type": "code",
   "execution_count": 72,
   "metadata": {},
   "outputs": [],
   "source": [
    "stock_a = get_df_from_csv(tickers[1])\n",
    "stock_a\n",
    "\n",
    "add_daily_return(stock_a,tickers[1])\n",
    "stock_a\n",
    "\n",
    "stock_a = delete_unnames_cols(stock_a)\n",
    "stock_a\n",
    "\n",
    "save_dataframe_to_csv(stock_a, tickers[1])"
   ]
  },
  {
   "cell_type": "code",
   "execution_count": null,
   "metadata": {},
   "outputs": [],
   "source": []
  },
  {
   "cell_type": "code",
   "execution_count": null,
   "metadata": {},
   "outputs": [],
   "source": []
  },
  {
   "cell_type": "code",
   "execution_count": null,
   "metadata": {},
   "outputs": [],
   "source": []
  }
 ],
 "metadata": {
  "kernelspec": {
   "display_name": "Python 3",
   "language": "python",
   "name": "python3"
  },
  "language_info": {
   "codemirror_mode": {
    "name": "ipython",
    "version": 3
   },
   "file_extension": ".py",
   "mimetype": "text/x-python",
   "name": "python",
   "nbconvert_exporter": "python",
   "pygments_lexer": "ipython3",
   "version": "3.10.0"
  }
 },
 "nbformat": 4,
 "nbformat_minor": 2
}
